{
  "nbformat": 4,
  "nbformat_minor": 0,
  "metadata": {
    "colab": {
      "private_outputs": true,
      "provenance": [],
      "authorship_tag": "ABX9TyMtdTK35q4vfJEh5+JUxpAZ",
      "include_colab_link": true
    },
    "kernelspec": {
      "name": "python3",
      "display_name": "Python 3"
    },
    "language_info": {
      "name": "python"
    }
  },
  "cells": [
    {
      "cell_type": "markdown",
      "metadata": {
        "id": "view-in-github",
        "colab_type": "text"
      },
      "source": [
        "<a href=\"https://colab.research.google.com/github/learningvipul/IMDb-Movie-Ratings-Analysis/blob/main/IMDb_Movie_Ratings_Analysis.ipynb\" target=\"_parent\"><img src=\"https://colab.research.google.com/assets/colab-badge.svg\" alt=\"Open In Colab\"/></a>"
      ]
    },
    {
      "cell_type": "markdown",
      "source": [
        "# IMDb-Movie-Ratings-Analysis"
      ],
      "metadata": {
        "id": "kSoQWfdoBoWc"
      }
    },
    {
      "cell_type": "markdown",
      "source": [
        "[Github repository](https://github.com/learningvipul/IMDb-Movie-Ratings-Analysis/tree/main)"
      ],
      "metadata": {
        "id": "4SkSm1XoBxs2"
      }
    },
    {
      "cell_type": "code",
      "source": [
        "import pandas as pd\n",
        "import requests\n",
        "from google.colab import drive"
      ],
      "metadata": {
        "id": "h-JY6M2SBkQU"
      },
      "execution_count": null,
      "outputs": []
    },
    {
      "cell_type": "markdown",
      "source": [
        "### 1. Load the \"tmdb_5000_movies.csv\" dataset"
      ],
      "metadata": {
        "id": "0ZcDzujjB__H"
      }
    },
    {
      "cell_type": "code",
      "source": [
        "drive.mount('/content/drive')"
      ],
      "metadata": {
        "id": "cHdsy1k48E0F"
      },
      "execution_count": null,
      "outputs": []
    },
    {
      "cell_type": "code",
      "source": [
        "df = pd.read_csv('/content/drive/MyDrive/IMDb-Movie-Ratings-Analysis/tmdb_5000_movies.csv')"
      ],
      "metadata": {
        "id": "PHll0Yrb8GY0"
      },
      "execution_count": null,
      "outputs": []
    },
    {
      "cell_type": "markdown",
      "source": [
        "### 2. Display the first few rows of the dataset to understand its structure"
      ],
      "metadata": {
        "id": "_Jkk6ItFCGdz"
      }
    },
    {
      "cell_type": "code",
      "source": [
        "df.head()"
      ],
      "metadata": {
        "id": "ezBk5LXV8EON"
      },
      "execution_count": null,
      "outputs": []
    },
    {
      "cell_type": "markdown",
      "source": [
        "### 3. Calculate the average movie rating (column \"vote_average\") and the range of ratings (minimum and maximum values)"
      ],
      "metadata": {
        "id": "zWArPdzWCLQ2"
      }
    },
    {
      "cell_type": "code",
      "source": [
        "df['vote_average'].mean()"
      ],
      "metadata": {
        "id": "E2MowbcYCNw1"
      },
      "execution_count": null,
      "outputs": []
    },
    {
      "cell_type": "code",
      "source": [
        "df['vote_average'].max()"
      ],
      "metadata": {
        "id": "evGrVUHT-Od6"
      },
      "execution_count": null,
      "outputs": []
    },
    {
      "cell_type": "code",
      "source": [
        "df['vote_average'].min()"
      ],
      "metadata": {
        "id": "pq7_cIC--XlN"
      },
      "execution_count": null,
      "outputs": []
    },
    {
      "cell_type": "markdown",
      "source": [
        "### 4. Create a histogram of movie ratings to visualize the distribution of ratings"
      ],
      "metadata": {
        "id": "74LYmAagCQOA"
      }
    },
    {
      "cell_type": "code",
      "source": [
        "df['vote_average'].hist()"
      ],
      "metadata": {
        "id": "C3sIItToCRjk"
      },
      "execution_count": null,
      "outputs": []
    },
    {
      "cell_type": "markdown",
      "source": [
        "### 5. Find the movie with the highest rating and the one with the lowest rating"
      ],
      "metadata": {
        "id": "4X1jrGnJCTho"
      }
    },
    {
      "cell_type": "code",
      "source": [
        "df[df['vote_average'] == df['vote_average'].max()]"
      ],
      "metadata": {
        "id": "3sHrCwU0CUrU"
      },
      "execution_count": null,
      "outputs": []
    },
    {
      "cell_type": "code",
      "source": [
        "df[df['vote_average'] == df['vote_average'].min()]"
      ],
      "metadata": {
        "id": "k1JrjgSY_wWs"
      },
      "execution_count": null,
      "outputs": []
    },
    {
      "cell_type": "markdown",
      "source": [
        "### 6. Calculate the correlation between the production budget (column \"budget\") and the rating (column \"vote_average\") using the Pearson correlation coefficient"
      ],
      "metadata": {
        "id": "hJuXm1M2CW77"
      }
    },
    {
      "cell_type": "code",
      "source": [
        "df['budget'].corr(df['vote_average'])"
      ],
      "metadata": {
        "id": "r82dw8XzCYfe"
      },
      "execution_count": null,
      "outputs": []
    },
    {
      "cell_type": "markdown",
      "source": [
        "### 7. Display a scatter plot to show the relationship between production budget and rating"
      ],
      "metadata": {
        "id": "jq8pwStyCapm"
      }
    },
    {
      "cell_type": "code",
      "source": [
        "data = {\n",
        "    'Budget': df['budget'],\n",
        "    'Vote_Average': df['vote_average']\n",
        "}\n",
        "\n",
        "dfplot = pd.DataFrame(data=data)\n",
        "dfplot.plot.scatter(x='Vote_Average', y='Budget', c='blue')"
      ],
      "metadata": {
        "id": "uHssmJDpCb5N"
      },
      "execution_count": null,
      "outputs": []
    },
    {
      "cell_type": "markdown",
      "source": [
        "### 8. Calculate the total number of movies with a rating above 7 and a budget below $10 million"
      ],
      "metadata": {
        "id": "TIWv6GcKCchK"
      }
    },
    {
      "cell_type": "code",
      "source": [
        "len(df[ (df['budget'] < 10000000) & (df['vote_average'] > 7)])"
      ],
      "metadata": {
        "id": "bMZxUtaJCfmt"
      },
      "execution_count": null,
      "outputs": []
    }
  ]
}